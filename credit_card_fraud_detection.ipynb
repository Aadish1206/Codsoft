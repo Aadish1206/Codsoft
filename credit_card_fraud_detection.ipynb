{
  "cells": [
    {
      "cell_type": "markdown",
      "metadata": {
        "id": "view-in-github",
        "colab_type": "text"
      },
      "source": [
        "<a href=\"https://colab.research.google.com/github/Aadish1206/Codsoft/blob/main/credit_card_fraud_detection.ipynb\" target=\"_parent\"><img src=\"https://colab.research.google.com/assets/colab-badge.svg\" alt=\"Open In Colab\"/></a>"
      ]
    },
    {
      "cell_type": "markdown",
      "id": "ea4b3043",
      "metadata": {
        "id": "ea4b3043"
      },
      "source": [
        "# Credit Card Fraud Detection"
      ]
    },
    {
      "cell_type": "markdown",
      "id": "659cfbfb",
      "metadata": {
        "id": "659cfbfb"
      },
      "source": [
        "## Import necessary libraries"
      ]
    },
    {
      "cell_type": "code",
      "execution_count": null,
      "id": "787962be",
      "metadata": {
        "id": "787962be"
      },
      "outputs": [],
      "source": [
        "import pandas as pd\n",
        "import seaborn as sns\n",
        "import matplotlib.pyplot as plt\n",
        "from sklearn.preprocessing import StandardScaler\n",
        "from sklearn.model_selection import train_test_split\n",
        "from sklearn.linear_model import LogisticRegression\n",
        "from sklearn.tree import DecisionTreeClassifier\n",
        "from sklearn.ensemble import RandomForestClassifier\n",
        "from sklearn.metrics import accuracy_score, confusion_matrix, classification_report\n",
        "from imblearn.over_sampling import SMOTE\n",
        "import joblib\n"
      ]
    },
    {
      "cell_type": "markdown",
      "id": "8ffd2145",
      "metadata": {
        "id": "8ffd2145"
      },
      "source": [
        "## Load the training and test datasets from URLs"
      ]
    },
    {
      "cell_type": "code",
      "execution_count": null,
      "id": "c2bc1832",
      "metadata": {
        "id": "c2bc1832"
      },
      "outputs": [],
      "source": [
        "\n",
        "train_url = '/content/fraudTrain.csv'\n",
        "test_url = '/content/fraudTest.csv'\n",
        "train_data = pd.read_csv(train_url)\n",
        "test_data = pd.read_csv(test_url)\n"
      ]
    },
    {
      "cell_type": "markdown",
      "id": "b325507e",
      "metadata": {
        "id": "b325507e"
      },
      "source": [
        "## Basic data exploration for training data"
      ]
    },
    {
      "cell_type": "code",
      "execution_count": null,
      "id": "b4a4ddf1",
      "metadata": {
        "colab": {
          "base_uri": "https://localhost:8080/"
        },
        "id": "b4a4ddf1",
        "outputId": "1f8714f6-6d4f-4b7e-a2d4-0c48ed21c1cf"
      },
      "outputs": [
        {
          "output_type": "stream",
          "name": "stdout",
          "text": [
            "Training Dataset shape: (31151, 23)\n",
            "<class 'pandas.core.frame.DataFrame'>\n",
            "RangeIndex: 31151 entries, 0 to 31150\n",
            "Data columns (total 23 columns):\n",
            " #   Column                 Non-Null Count  Dtype  \n",
            "---  ------                 --------------  -----  \n",
            " 0   Unnamed: 0             31151 non-null  int64  \n",
            " 1   trans_date_trans_time  31151 non-null  object \n",
            " 2   cc_num                 31151 non-null  int64  \n",
            " 3   merchant               31151 non-null  object \n",
            " 4   category               31151 non-null  object \n",
            " 5   amt                    31151 non-null  float64\n",
            " 6   first                  31151 non-null  object \n",
            " 7   last                   31151 non-null  object \n",
            " 8   gender                 31151 non-null  object \n",
            " 9   street                 31151 non-null  object \n",
            " 10  city                   31150 non-null  object \n",
            " 11  state                  31150 non-null  object \n",
            " 12  zip                    31150 non-null  float64\n",
            " 13  lat                    31150 non-null  float64\n",
            " 14  long                   31150 non-null  float64\n",
            " 15  city_pop               31150 non-null  float64\n",
            " 16  job                    31150 non-null  object \n",
            " 17  dob                    31150 non-null  object \n",
            " 18  trans_num              31150 non-null  object \n",
            " 19  unix_time              31150 non-null  float64\n",
            " 20  merch_lat              31150 non-null  float64\n",
            " 21  merch_long             31150 non-null  float64\n",
            " 22  is_fraud               31150 non-null  float64\n",
            "dtypes: float64(9), int64(2), object(12)\n",
            "memory usage: 5.5+ MB\n",
            "Training Dataset info:\n",
            " None\n",
            "Training Dataset description:\n",
            "          Unnamed: 0        cc_num           amt           zip           lat  \\\n",
            "count  31151.000000  3.115100e+04  31151.000000  31150.000000  31150.000000   \n",
            "mean   15575.000000  4.160516e+17     71.972223  48741.012970     38.536202   \n",
            "std     8992.663454  1.307937e+18    148.381965  26996.933234      5.096907   \n",
            "min        0.000000  6.041621e+10      1.000000   1257.000000     20.027100   \n",
            "25%     7787.500000  1.800429e+14      9.710000  25526.000000     34.668900   \n",
            "50%    15575.000000  3.519233e+15     48.090000  48088.000000     39.342600   \n",
            "75%    23362.500000  4.642255e+15     83.870000  72042.000000     41.846700   \n",
            "max    31150.000000  4.992346e+18  11872.210000  99783.000000     65.689900   \n",
            "\n",
            "               long      city_pop     unix_time     merch_lat    merch_long  \\\n",
            "count  31150.000000  3.115000e+04  3.115000e+04  31150.000000  31150.000000   \n",
            "mean     -90.245248  8.905872e+04  1.326173e+09     38.536572    -90.247639   \n",
            "std       13.920543  2.976224e+05  4.540190e+05      5.126436     13.937947   \n",
            "min     -165.672300  2.300000e+01  1.325376e+09     19.040141   -166.629875   \n",
            "25%      -96.809400  7.440000e+02  1.325814e+09     34.781559    -96.972432   \n",
            "50%      -87.461600  2.471000e+03  1.326153e+09     39.345150    -87.424560   \n",
            "75%      -80.128400  2.047800e+04  1.326564e+09     41.919813    -80.167952   \n",
            "max      -67.950300  2.906700e+06  1.326991e+09     66.659242    -66.967742   \n",
            "\n",
            "           is_fraud  \n",
            "count  31150.000000  \n",
            "mean       0.009920  \n",
            "std        0.099104  \n",
            "min        0.000000  \n",
            "25%        0.000000  \n",
            "50%        0.000000  \n",
            "75%        0.000000  \n",
            "max        1.000000  \n"
          ]
        }
      ],
      "source": [
        "\n",
        "print(\"Training Dataset shape:\", train_data.shape)\n",
        "print(\"Training Dataset info:\\n\", train_data.info())\n",
        "print(\"Training Dataset description:\\n\", train_data.describe())\n"
      ]
    },
    {
      "cell_type": "markdown",
      "id": "05e7d6d6",
      "metadata": {
        "id": "05e7d6d6"
      },
      "source": [
        "## Basic data exploration for test data"
      ]
    },
    {
      "cell_type": "code",
      "execution_count": null,
      "id": "8d3cfa1e",
      "metadata": {
        "colab": {
          "base_uri": "https://localhost:8080/"
        },
        "id": "8d3cfa1e",
        "outputId": "a8566d1b-bd2e-4c7d-97b4-cbb8bd7e26bd"
      },
      "outputs": [
        {
          "output_type": "stream",
          "name": "stdout",
          "text": [
            "Test Dataset shape: (31124, 23)\n",
            "<class 'pandas.core.frame.DataFrame'>\n",
            "RangeIndex: 31124 entries, 0 to 31123\n",
            "Data columns (total 23 columns):\n",
            " #   Column                 Non-Null Count  Dtype  \n",
            "---  ------                 --------------  -----  \n",
            " 0   Unnamed: 0             31124 non-null  int64  \n",
            " 1   trans_date_trans_time  31124 non-null  object \n",
            " 2   cc_num                 31123 non-null  float64\n",
            " 3   merchant               31123 non-null  object \n",
            " 4   category               31123 non-null  object \n",
            " 5   amt                    31123 non-null  float64\n",
            " 6   first                  31123 non-null  object \n",
            " 7   last                   31123 non-null  object \n",
            " 8   gender                 31123 non-null  object \n",
            " 9   street                 31123 non-null  object \n",
            " 10  city                   31123 non-null  object \n",
            " 11  state                  31123 non-null  object \n",
            " 12  zip                    31123 non-null  float64\n",
            " 13  lat                    31123 non-null  float64\n",
            " 14  long                   31123 non-null  float64\n",
            " 15  city_pop               31123 non-null  float64\n",
            " 16  job                    31123 non-null  object \n",
            " 17  dob                    31123 non-null  object \n",
            " 18  trans_num              31123 non-null  object \n",
            " 19  unix_time              31123 non-null  float64\n",
            " 20  merch_lat              31123 non-null  float64\n",
            " 21  merch_long             31123 non-null  float64\n",
            " 22  is_fraud               31123 non-null  float64\n",
            "dtypes: float64(10), int64(1), object(12)\n",
            "memory usage: 5.5+ MB\n",
            "Test Dataset info:\n",
            " None\n",
            "Test Dataset description:\n",
            "          Unnamed: 0        cc_num           amt           zip           lat  \\\n",
            "count  31124.000000  3.112300e+04  31123.000000  31123.000000  31123.000000   \n",
            "mean   15561.500000  4.091678e+17     69.186416  48550.990264     38.540180   \n",
            "std     8984.869226  1.297193e+18    132.903222  26774.993828      5.054688   \n",
            "min        0.000000  6.041621e+10      1.000000   1257.000000     20.027100   \n",
            "25%     7780.750000  1.800429e+14      9.580000  25832.000000     34.668900   \n",
            "50%    15561.500000  3.518669e+15     46.610000  48088.000000     39.371600   \n",
            "75%    23342.250000  4.610065e+15     82.825000  71960.000000     42.015800   \n",
            "max    31123.000000  4.992346e+18   6600.440000  99783.000000     65.689900   \n",
            "\n",
            "               long      city_pop     unix_time     merch_lat    merch_long  \\\n",
            "count  31123.000000  3.112300e+04  3.112300e+04  31123.000000  31123.000000   \n",
            "mean     -90.065315  9.013189e+04  1.372249e+09     38.537130    -90.067105   \n",
            "std       13.565826  3.043407e+05  2.675250e+05      5.090761     13.576189   \n",
            "min     -165.672300  2.300000e+01  1.371817e+09     19.163455   -166.584303   \n",
            "25%      -96.727000  7.590000e+02  1.371992e+09     34.756136    -96.764038   \n",
            "50%      -87.456900  2.457000e+03  1.372270e+09     39.377332    -87.373346   \n",
            "75%      -80.128400  2.047800e+04  1.372497e+09     41.974294    -80.204000   \n",
            "max      -67.950300  2.906700e+06  1.372694e+09     66.669356    -66.955602   \n",
            "\n",
            "           is_fraud  \n",
            "count  31123.000000  \n",
            "mean       0.004338  \n",
            "std        0.065719  \n",
            "min        0.000000  \n",
            "25%        0.000000  \n",
            "50%        0.000000  \n",
            "75%        0.000000  \n",
            "max        1.000000  \n"
          ]
        }
      ],
      "source": [
        "\n",
        "print(\"Test Dataset shape:\", test_data.shape)\n",
        "print(\"Test Dataset info:\\n\", test_data.info())\n",
        "print(\"Test Dataset description:\\n\", test_data.describe())\n"
      ]
    },
    {
      "cell_type": "markdown",
      "id": "98bdd696",
      "metadata": {
        "id": "98bdd696"
      },
      "source": [
        "## Check for missing values in training data"
      ]
    },
    {
      "cell_type": "code",
      "execution_count": null,
      "id": "cb383f76",
      "metadata": {
        "colab": {
          "base_uri": "https://localhost:8080/"
        },
        "id": "cb383f76",
        "outputId": "bdd2ad8c-50f8-4b0e-8a8a-91a6c2730aec"
      },
      "outputs": [
        {
          "output_type": "stream",
          "name": "stdout",
          "text": [
            "Missing values in training data:\n",
            " Unnamed: 0               0\n",
            "trans_date_trans_time    0\n",
            "cc_num                   0\n",
            "merchant                 0\n",
            "category                 0\n",
            "amt                      0\n",
            "first                    0\n",
            "last                     0\n",
            "gender                   0\n",
            "street                   0\n",
            "city                     1\n",
            "state                    1\n",
            "zip                      1\n",
            "lat                      1\n",
            "long                     1\n",
            "city_pop                 1\n",
            "job                      1\n",
            "dob                      1\n",
            "trans_num                1\n",
            "unix_time                1\n",
            "merch_lat                1\n",
            "merch_long               1\n",
            "is_fraud                 1\n",
            "dtype: int64\n"
          ]
        }
      ],
      "source": [
        "\n",
        "print(\"Missing values in training data:\\n\", train_data.isnull().sum())\n"
      ]
    },
    {
      "cell_type": "markdown",
      "id": "cbc0f0f8",
      "metadata": {
        "id": "cbc0f0f8"
      },
      "source": [
        "## Check for missing values in test data"
      ]
    },
    {
      "cell_type": "code",
      "execution_count": null,
      "id": "e843496f",
      "metadata": {
        "colab": {
          "base_uri": "https://localhost:8080/"
        },
        "id": "e843496f",
        "outputId": "974b6275-da37-4de9-a5c2-b3a456440078"
      },
      "outputs": [
        {
          "output_type": "stream",
          "name": "stdout",
          "text": [
            "Missing values in test data:\n",
            " Unnamed: 0               0\n",
            "trans_date_trans_time    0\n",
            "cc_num                   1\n",
            "merchant                 1\n",
            "category                 1\n",
            "amt                      1\n",
            "first                    1\n",
            "last                     1\n",
            "gender                   1\n",
            "street                   1\n",
            "city                     1\n",
            "state                    1\n",
            "zip                      1\n",
            "lat                      1\n",
            "long                     1\n",
            "city_pop                 1\n",
            "job                      1\n",
            "dob                      1\n",
            "trans_num                1\n",
            "unix_time                1\n",
            "merch_lat                1\n",
            "merch_long               1\n",
            "is_fraud                 1\n",
            "dtype: int64\n"
          ]
        }
      ],
      "source": [
        "\n",
        "print(\"Missing values in test data:\\n\", test_data.isnull().sum())\n"
      ]
    },
    {
      "cell_type": "markdown",
      "id": "c4d36872",
      "metadata": {
        "id": "c4d36872"
      },
      "source": [
        "## Additional data exploration - Display the first few rows of the training dataset"
      ]
    },
    {
      "cell_type": "code",
      "execution_count": null,
      "id": "64967685",
      "metadata": {
        "colab": {
          "base_uri": "https://localhost:8080/"
        },
        "id": "64967685",
        "outputId": "6fc19872-532b-499e-c140-1e964a20d511"
      },
      "outputs": [
        {
          "output_type": "stream",
          "name": "stdout",
          "text": [
            "First few rows of the training dataset:\n",
            "   Unnamed: 0 trans_date_trans_time            cc_num  \\\n",
            "0           0   2019-01-01 00:00:18  2703186189652095   \n",
            "1           1   2019-01-01 00:00:44      630423337322   \n",
            "2           2   2019-01-01 00:00:51    38859492057661   \n",
            "3           3   2019-01-01 00:01:16  3534093764340240   \n",
            "4           4   2019-01-01 00:03:06   375534208663984   \n",
            "\n",
            "                             merchant       category     amt      first  \\\n",
            "0          fraud_Rippin, Kub and Mann       misc_net    4.97   Jennifer   \n",
            "1     fraud_Heller, Gutmann and Zieme    grocery_pos  107.23  Stephanie   \n",
            "2                fraud_Lind-Buckridge  entertainment  220.11     Edward   \n",
            "3  fraud_Kutch, Hermiston and Farrell  gas_transport   45.00     Jeremy   \n",
            "4                 fraud_Keeling-Crist       misc_pos   41.96      Tyler   \n",
            "\n",
            "      last gender                        street  ...      lat      long  \\\n",
            "0    Banks      F                561 Perry Cove  ...  36.0788  -81.1781   \n",
            "1     Gill      F  43039 Riley Greens Suite 393  ...  48.8878 -118.2105   \n",
            "2  Sanchez      M      594 White Dale Suite 530  ...  42.1808 -112.2620   \n",
            "3    White      M   9443 Cynthia Court Apt. 038  ...  46.2306 -112.1138   \n",
            "4   Garcia      M              408 Bradley Rest  ...  38.4207  -79.4629   \n",
            "\n",
            "   city_pop                                job         dob  \\\n",
            "0    3495.0          Psychologist, counselling  1988-03-09   \n",
            "1     149.0  Special educational needs teacher  1978-06-21   \n",
            "2    4154.0        Nature conservation officer  1962-01-19   \n",
            "3    1939.0                    Patent attorney  1967-01-12   \n",
            "4      99.0     Dance movement psychotherapist  1986-03-28   \n",
            "\n",
            "                          trans_num     unix_time  merch_lat  merch_long  \\\n",
            "0  0b242abb623afc578575680df30655b9  1.325376e+09  36.011293  -82.048315   \n",
            "1  1f76529f8574734946361c461b024d99  1.325376e+09  49.159047 -118.186462   \n",
            "2  a1a22d70485983eac12b5b88dad1cf95  1.325376e+09  43.150704 -112.154481   \n",
            "3  6b849c168bdad6f867558c3793159a81  1.325376e+09  47.034331 -112.561071   \n",
            "4  a41d7549acf90789359a9aa5346dcb46  1.325376e+09  38.674999  -78.632459   \n",
            "\n",
            "   is_fraud  \n",
            "0       0.0  \n",
            "1       0.0  \n",
            "2       0.0  \n",
            "3       0.0  \n",
            "4       0.0  \n",
            "\n",
            "[5 rows x 23 columns]\n"
          ]
        }
      ],
      "source": [
        "\n",
        "print(\"First few rows of the training dataset:\")\n",
        "print(train_data.head())\n"
      ]
    },
    {
      "cell_type": "markdown",
      "id": "b7c047ea",
      "metadata": {
        "id": "b7c047ea"
      },
      "source": [
        "## Additional data exploration - Display the first few rows of the test dataset"
      ]
    },
    {
      "cell_type": "code",
      "execution_count": null,
      "id": "e96577d0",
      "metadata": {
        "colab": {
          "base_uri": "https://localhost:8080/"
        },
        "id": "e96577d0",
        "outputId": "a424144c-17ed-42dd-cbc8-5078361a340c"
      },
      "outputs": [
        {
          "output_type": "stream",
          "name": "stdout",
          "text": [
            "First few rows of the test dataset:\n",
            "   Unnamed: 0 trans_date_trans_time        cc_num  \\\n",
            "0           0   2020-06-21 12:14:25  2.291164e+15   \n",
            "1           1   2020-06-21 12:14:33  3.573030e+15   \n",
            "2           2   2020-06-21 12:14:53  3.598215e+15   \n",
            "3           3   2020-06-21 12:15:15  3.591920e+15   \n",
            "4           4   2020-06-21 12:15:17  3.526826e+15   \n",
            "\n",
            "                               merchant        category    amt   first  \\\n",
            "0                 fraud_Kirlin and Sons   personal_care   2.86    Jeff   \n",
            "1                  fraud_Sporer-Keebler   personal_care  29.84  Joanne   \n",
            "2  fraud_Swaniawski, Nitzsche and Welch  health_fitness  41.28  Ashley   \n",
            "3                     fraud_Haley Group        misc_pos  60.05   Brian   \n",
            "4                 fraud_Johnston-Casper          travel   3.19  Nathan   \n",
            "\n",
            "       last gender                       street  ...      lat      long  \\\n",
            "0   Elliott      M            351 Darlene Green  ...  33.9659  -80.9355   \n",
            "1  Williams      F             3638 Marsh Union  ...  40.3207 -110.4360   \n",
            "2     Lopez      F         9333 Valentine Point  ...  40.6729  -73.5365   \n",
            "3  Williams      M  32941 Krystal Mill Apt. 552  ...  28.5697  -80.8191   \n",
            "4    Massey      M     5783 Evan Roads Apt. 465  ...  44.2529  -85.0170   \n",
            "\n",
            "   city_pop                     job         dob  \\\n",
            "0  333497.0     Mechanical engineer  1968-03-19   \n",
            "1     302.0  Sales professional, IT  1990-01-17   \n",
            "2   34496.0       Librarian, public  1970-10-21   \n",
            "3   54767.0            Set designer  1987-07-25   \n",
            "4    1126.0      Furniture designer  1955-07-06   \n",
            "\n",
            "                          trans_num     unix_time  merch_lat  merch_long  \\\n",
            "0  2da90c7d74bd46a0caf3777415b3ebd3  1.371817e+09  33.986391  -81.200714   \n",
            "1  324cc204407e99f51b0d6ca0055005e7  1.371817e+09  39.450498 -109.960431   \n",
            "2  c81755dbbbea9d5c77f094348a7579be  1.371817e+09  40.495810  -74.196111   \n",
            "3  2159175b9efe66dc301f149d3d5abf8c  1.371817e+09  28.812398  -80.883061   \n",
            "4  57ff021bd3f328f8738bb535c302a31b  1.371817e+09  44.959148  -85.884734   \n",
            "\n",
            "   is_fraud  \n",
            "0       0.0  \n",
            "1       0.0  \n",
            "2       0.0  \n",
            "3       0.0  \n",
            "4       0.0  \n",
            "\n",
            "[5 rows x 23 columns]\n"
          ]
        }
      ],
      "source": [
        "\n",
        "print(\"First few rows of the test dataset:\")\n",
        "print(test_data.head())\n"
      ]
    },
    {
      "cell_type": "markdown",
      "id": "deffdeb3",
      "metadata": {
        "id": "deffdeb3"
      },
      "source": [
        "## Check the distribution of 'Amount' before scaling in training data"
      ]
    },
    {
      "cell_type": "code",
      "execution_count": null,
      "id": "a987fe44",
      "metadata": {
        "colab": {
          "base_uri": "https://localhost:8080/",
          "height": 452
        },
        "id": "a987fe44",
        "outputId": "bb94de05-e3e7-4155-a155-2465fe0cc0ab"
      },
      "outputs": [
        {
          "output_type": "display_data",
          "data": {
            "text/plain": [
              "<Figure size 1000x500 with 1 Axes>"
            ],
            "image/png": "[encoded data removed]"
          },
          "metadata": {}
        }
      ],
      "source": [
        "if 'amt' in train_data.columns:\n",
        "    plt.figure(figsize=(10, 5))\n",
        "    sns.histplot(train_data['amt'], bins=50, kde=True)\n",
        "    plt.title('Distribution of amt (Before Scaling) - Training Data')\n",
        "    plt.show()\n",
        "else:\n",
        "    print(\"Column 'amt' not found in training data\")\n"
      ]
    },
    {
      "cell_type": "markdown",
      "id": "67301f2f",
      "metadata": {
        "id": "67301f2f"
      },
      "source": [
        "## Scale the 'Amount' feature in training data"
      ]
    },
    {
      "cell_type": "code",
      "execution_count": null,
      "id": "05e0060e",
      "metadata": {
        "id": "05e0060e"
      },
      "outputs": [],
      "source": [
        "if 'amt' in train_data.columns:\n",
        "    sc = StandardScaler()\n",
        "    train_data['amt'] = sc.fit_transform(train_data[['amt']])\n",
        "else:\n",
        "    print(\"Column 'amt' not found in training data\")\n"
      ]
    },
    {
      "cell_type": "markdown",
      "id": "4dd51a71",
      "metadata": {
        "id": "4dd51a71"
      },
      "source": [
        "## Scale the 'Amount' feature in test data"
      ]
    },
    {
      "cell_type": "code",
      "execution_count": null,
      "id": "a58fe572",
      "metadata": {
        "id": "a58fe572"
      },
      "outputs": [],
      "source": [
        "if 'amt' in test_data.columns:\n",
        "    test_data['amt'] = sc.transform(test_data[['amt']])\n",
        "else:\n",
        "    print(\"Column 'amt' not found in test data\")\n"
      ]
    },
    {
      "cell_type": "markdown",
      "id": "c69de3ad",
      "metadata": {
        "id": "c69de3ad"
      },
      "source": [
        "## Check the distribution of 'Amount' after scaling in training data"
      ]
    },
    {
      "cell_type": "code",
      "execution_count": null,
      "id": "6cc7faaf",
      "metadata": {
        "colab": {
          "base_uri": "https://localhost:8080/"
        },
        "id": "6cc7faaf",
        "outputId": "71a27802-4d81-4268-d82f-f8feadf7233d"
      },
      "outputs": [
        {
          "output_type": "stream",
          "name": "stdout",
          "text": [
            "Column 'Amount' not found in test data\n"
          ]
        }
      ],
      "source": [
        "if 'Amount' in test_data.columns:\n",
        "    test_data['Amount'] = sc.transform(pd.DataFrame(test_data['Amount']))\n",
        "else:\n",
        "    print(\"Column 'Amount' not found in test data\")\n"
      ]
    },
    {
      "cell_type": "code",
      "source": [
        "if 'Amount' in train_data.columns:\n",
        "    plt.figure(figsize=(10, 5))\n",
        "    sns.histplot(train_data['Amount'], bins=50, kde=True)\n",
        "    plt.title('Distribution of Amount (After Scaling) - Training Data')\n",
        "    plt.show()\n",
        "else:\n",
        "    print(\"Column 'Amount' not found in training data\")\n"
      ],
      "metadata": {
        "colab": {
          "base_uri": "https://localhost:8080/"
        },
        "id": "axBoeX7A3ou3",
        "outputId": "a7ba40ff-1e92-4f08-9079-2f5eaca05e3b"
      },
      "id": "axBoeX7A3ou3",
      "execution_count": null,
      "outputs": [
        {
          "output_type": "stream",
          "name": "stdout",
          "text": [
            "Column 'Amount' not found in training data\n"
          ]
        }
      ]
    },
    {
      "cell_type": "markdown",
      "id": "b70c2339",
      "metadata": {
        "id": "b70c2339"
      },
      "source": [
        "## Drop the 'Time' column in training data"
      ]
    },
    {
      "cell_type": "code",
      "execution_count": null,
      "id": "5ee3a1e2",
      "metadata": {
        "colab": {
          "base_uri": "https://localhost:8080/"
        },
        "id": "5ee3a1e2",
        "outputId": "58a00e2f-6268-4f5b-e0ec-f2be03770e0b"
      },
      "outputs": [
        {
          "output_type": "stream",
          "name": "stdout",
          "text": [
            "Column 'Time' not found in training data\n"
          ]
        }
      ],
      "source": [
        "if 'Time' in train_data.columns:\n",
        "    train_data = train_data.drop(['Time'], axis=1)\n",
        "else:\n",
        "    print(\"Column 'Time' not found in training data\")\n"
      ]
    },
    {
      "cell_type": "markdown",
      "id": "01166a8d",
      "metadata": {
        "id": "01166a8d"
      },
      "source": [
        "## Drop the 'Time' column in test data"
      ]
    },
    {
      "cell_type": "code",
      "execution_count": null,
      "id": "13d2038b",
      "metadata": {
        "colab": {
          "base_uri": "https://localhost:8080/"
        },
        "id": "13d2038b",
        "outputId": "0cf445c1-e09b-4f81-bbc1-3b745f563118"
      },
      "outputs": [
        {
          "output_type": "stream",
          "name": "stdout",
          "text": [
            "Column 'Time' not found in test data\n"
          ]
        }
      ],
      "source": [
        "if 'Time' in test_data.columns:\n",
        "    test_data = test_data.drop(['Time'], axis=1)\n",
        "else:\n",
        "    print(\"Column 'Time' not found in test data\")\n"
      ]
    },
    {
      "cell_type": "markdown",
      "id": "685ece92",
      "metadata": {
        "id": "685ece92"
      },
      "source": [
        "## Handle duplicates in training data"
      ]
    },
    {
      "cell_type": "code",
      "execution_count": null,
      "id": "d5714c34",
      "metadata": {
        "colab": {
          "base_uri": "https://localhost:8080/"
        },
        "id": "d5714c34",
        "outputId": "42086c5c-76d6-4a86-cec3-390c575b77fd"
      },
      "outputs": [
        {
          "output_type": "stream",
          "name": "stdout",
          "text": [
            "Training dataset shape after dropping duplicates: (31151, 23)\n"
          ]
        }
      ],
      "source": [
        "\n",
        "train_data = train_data.drop_duplicates()\n",
        "print(\"Training dataset shape after dropping duplicates:\", train_data.shape)\n"
      ]
    },
    {
      "cell_type": "markdown",
      "id": "7caaa0d3",
      "metadata": {
        "id": "7caaa0d3"
      },
      "source": [
        "## Handle duplicates in test data"
      ]
    },
    {
      "cell_type": "code",
      "execution_count": null,
      "id": "01d2897c",
      "metadata": {
        "colab": {
          "base_uri": "https://localhost:8080/"
        },
        "id": "01d2897c",
        "outputId": "92c398c0-5c2a-484d-e1ae-9ddf321af7e6"
      },
      "outputs": [
        {
          "output_type": "stream",
          "name": "stdout",
          "text": [
            "Test dataset shape after dropping duplicates: (31124, 23)\n"
          ]
        }
      ],
      "source": [
        "\n",
        "test_data = test_data.drop_duplicates()\n",
        "print(\"Test dataset shape after dropping duplicates:\", test_data.shape)\n"
      ]
    },
    {
      "cell_type": "markdown",
      "id": "5f19c70c",
      "metadata": {
        "id": "5f19c70c"
      },
      "source": [
        "## Visualize class distribution in training data"
      ]
    },
    {
      "cell_type": "code",
      "execution_count": null,
      "id": "c7c717f3",
      "metadata": {
        "colab": {
          "base_uri": "https://localhost:8080/",
          "height": 452
        },
        "id": "c7c717f3",
        "outputId": "242c9d0c-2117-47ce-9ac1-d3326016805a"
      },
      "outputs": [
        {
          "output_type": "display_data",
          "data": {
            "text/plain": [
              "<Figure size 640x480 with 1 Axes>"
            ],
            "image/png": "[encoded data removed]"
          },
          "metadata": {}
        }
      ],
      "source": [
        "if 'is_fraud' in train_data.columns:\n",
        "    sample_train_data = train_data.sample(n=10000, random_state=42)\n",
        "    sns.countplot(sample_train_data['is_fraud'])\n",
        "    plt.title('Class Distribution - Training Data')\n",
        "    plt.show()\n",
        "else:\n",
        "    print(\"Column 'is_fraud' not found in training data\")\n"
      ]
    },
    {
      "cell_type": "markdown",
      "id": "bfd244ef",
      "metadata": {
        "id": "bfd244ef"
      },
      "source": [
        "## Define features and target variable for training data"
      ]
    },
    {
      "cell_type": "code",
      "execution_count": null,
      "id": "b2200366",
      "metadata": {
        "colab": {
          "base_uri": "https://localhost:8080/"
        },
        "id": "b2200366",
        "outputId": "e56a0c25-ea14-4562-c298-dca7da6462f6"
      },
      "outputs": [
        {
          "output_type": "stream",
          "name": "stdout",
          "text": [
            "Number of NaN values in 'is_fraud' in training data: 1\n",
            "Number of NaN values in 'is_fraud' in test data: 1\n"
          ]
        }
      ],
      "source": [
        "drop_cols = ['trans_date_trans_time', 'merchant', 'category', 'first', 'last', 'gender', 'street', 'city', 'state', 'job', 'dob', 'trans_num']\n",
        "\n",
        "if 'is_fraud' in train_data.columns and 'is_fraud' in test_data.columns:\n",
        "\n",
        "    X_train = train_data.drop(columns=drop_cols + ['is_fraud'])\n",
        "    y_train = train_data['is_fraud']\n",
        "\n",
        "    X_test = test_data.drop(columns=drop_cols + ['is_fraud'])\n",
        "    y_test = test_data['is_fraud']\n",
        "\n",
        "    X_train = X_train.fillna(X_train.median())\n",
        "    X_test = X_test.fillna(X_test.median())\n",
        "\n",
        "    X_test = X_test[X_train.columns]\n",
        "\n",
        "    if y_train.isnull().sum() > 0:\n",
        "        print(f\"Number of NaN values in 'is_fraud' in training data: {y_train.isnull().sum()}\")\n",
        "        y_train = y_train.fillna(y_train.mode()[0])\n",
        "    if y_test.isnull().sum() > 0:\n",
        "        print(f\"Number of NaN values in 'is_fraud' in test data: {y_test.isnull().sum()}\")\n",
        "        y_test = y_test.fillna(y_test.mode()[0])\n",
        "else:\n",
        "    print(\"Column 'is_fraud' not found in training or test data\")\n"
      ]
    },
    {
      "cell_type": "markdown",
      "id": "62a609a7",
      "metadata": {
        "id": "62a609a7"
      },
      "source": [
        "## Define features and target variable for test data"
      ]
    },
    {
      "cell_type": "code",
      "execution_count": null,
      "id": "33101125",
      "metadata": {
        "id": "33101125"
      },
      "outputs": [],
      "source": [
        "if 'is_fraud' in test_data.columns:\n",
        "    X_test = test_data.drop('is_fraud', axis=1)\n",
        "    y_test = test_data['is_fraud']\n",
        "else:\n",
        "    print(\"Column 'is_fraud' not found in test data\")\n"
      ]
    },
    {
      "cell_type": "markdown",
      "id": "25d5ab5c",
      "metadata": {
        "id": "25d5ab5c"
      },
      "source": [
        "## Handle class imbalance using SMOTE in training data"
      ]
    },
    {
      "cell_type": "code",
      "execution_count": null,
      "id": "9e479cb4",
      "metadata": {
        "id": "9e479cb4"
      },
      "outputs": [],
      "source": [
        "if 'is_fraud' in train_data.columns:\n",
        "    smote = SMOTE()\n",
        "    X_train_res, y_train_res = smote.fit_resample(X_train, y_train)\n",
        "else:\n",
        "    print(\"Column 'is_fraud' not found in training data\")\n"
      ]
    },
    {
      "cell_type": "markdown",
      "id": "07c6f384",
      "metadata": {
        "id": "07c6f384"
      },
      "source": [
        "## Function to train and evaluate models"
      ]
    },
    {
      "cell_type": "code",
      "execution_count": null,
      "id": "a618ad88",
      "metadata": {
        "id": "a618ad88"
      },
      "outputs": [],
      "source": [
        "def evaluate_model(model, X_train, X_test, y_train, y_test, model_name):\n",
        "    model.fit(X_train, y_train)\n",
        "    y_pred = model.predict(X_test)\n",
        "    print(f\"Model: {model_name}\")\n",
        "    print(f\"Accuracy: {accuracy_score(y_test, y_pred)}\")\n",
        "    print(f\"Confusion Matrix:\\\\n{confusion_matrix(y_test, y_pred)}\")\n",
        "    print(f\"Classification Report:\\\\n{classification_report(y_test, y_pred)}\")\n",
        "    plt.figure(figsize=(8, 6))\n",
        "    sns.heatmap(confusion_matrix(y_test, y_pred), annot=True, fmt='d', cmap='Blues')\n",
        "    plt.title(f'{model_name} Confusion Matrix')\n",
        "    plt.ylabel('Actual')\n",
        "    plt.xlabel('Predicted')\n",
        "    plt.show()\n"
      ]
    },
    {
      "cell_type": "markdown",
      "id": "593834c0",
      "metadata": {
        "id": "593834c0"
      },
      "source": [
        "## Logistic Regression"
      ]
    },
    {
      "cell_type": "code",
      "execution_count": null,
      "id": "7034df68",
      "metadata": {
        "colab": {
          "base_uri": "https://localhost:8080/",
          "height": 1000
        },
        "id": "7034df68",
        "outputId": "c188a19f-1f10-4369-9e49-1be4d2292c84"
      },
      "outputs": [
        {
          "output_type": "stream",
          "name": "stderr",
          "text": [
            "/usr/local/lib/python3.10/dist-packages/sklearn/linear_model/_logistic.py:458: ConvergenceWarning: lbfgs failed to converge (status=2):\n",
            "ABNORMAL_TERMINATION_IN_LNSRCH.\n",
            "\n",
            "Increase the number of iterations (max_iter) or scale the data as shown in:\n",
            "    https://scikit-learn.org/stable/modules/preprocessing.html\n",
            "Please also refer to the documentation for alternative solver options:\n",
            "    https://scikit-learn.org/stable/modules/linear_model.html#logistic-regression\n",
            "  n_iter_i = _check_optimize_result(\n",
            "/usr/local/lib/python3.10/dist-packages/sklearn/metrics/_classification.py:1344: UndefinedMetricWarning: Precision and F-score are ill-defined and being set to 0.0 in labels with no predicted samples. Use `zero_division` parameter to control this behavior.\n",
            "  _warn_prf(average, modifier, msg_start, len(result))\n"
          ]
        },
        {
          "output_type": "stream",
          "name": "stdout",
          "text": [
            "Model: Logistic Regression\n",
            "Accuracy: 0.9956625112453412\n",
            "Confusion Matrix:\\n[[30989     0]\n",
            " [  135     0]]\n"
          ]
        },
        {
          "output_type": "stream",
          "name": "stderr",
          "text": [
            "/usr/local/lib/python3.10/dist-packages/sklearn/metrics/_classification.py:1344: UndefinedMetricWarning: Precision and F-score are ill-defined and being set to 0.0 in labels with no predicted samples. Use `zero_division` parameter to control this behavior.\n",
            "  _warn_prf(average, modifier, msg_start, len(result))\n",
            "/usr/local/lib/python3.10/dist-packages/sklearn/metrics/_classification.py:1344: UndefinedMetricWarning: Precision and F-score are ill-defined and being set to 0.0 in labels with no predicted samples. Use `zero_division` parameter to control this behavior.\n",
            "  _warn_prf(average, modifier, msg_start, len(result))\n"
          ]
        },
        {
          "output_type": "stream",
          "name": "stdout",
          "text": [
            "Classification Report:\\n              precision    recall  f1-score   support\n",
            "\n",
            "         0.0       1.00      1.00      1.00     30989\n",
            "         1.0       0.00      0.00      0.00       135\n",
            "\n",
            "    accuracy                           1.00     31124\n",
            "   macro avg       0.50      0.50      0.50     31124\n",
            "weighted avg       0.99      1.00      0.99     31124\n",
            "\n"
          ]
        },
        {
          "output_type": "display_data",
          "data": {
            "text/plain": [
              "<Figure size 800x600 with 2 Axes>"
            ],
            "image/png": "[encoded data removed]"
          },
          "metadata": {}
        }
      ],
      "source": [
        "lr = LogisticRegression(max_iter=1000)\n",
        "evaluate_model(lr, X_train_res, X_test, y_train_res, y_test, \"Logistic Regression\")\n"
      ]
    },
    {
      "cell_type": "markdown",
      "id": "2f82986a",
      "metadata": {
        "id": "2f82986a"
      },
      "source": [
        "## Decision Tree Classifier"
      ]
    },
    {
      "cell_type": "code",
      "execution_count": null,
      "id": "8f627b9c",
      "metadata": {
        "colab": {
          "base_uri": "https://localhost:8080/",
          "height": 802
        },
        "id": "8f627b9c",
        "outputId": "b2c6ba3a-7e66-4305-dac5-dbdc4ef87dd8"
      },
      "outputs": [
        {
          "output_type": "stream",
          "name": "stdout",
          "text": [
            "Model: Decision Tree Classifier\n",
            "Accuracy: 0.9393394165274387\n",
            "Confusion Matrix:\\n[[29236  1753]\n",
            " [  135     0]]\n",
            "Classification Report:\\n              precision    recall  f1-score   support\n",
            "\n",
            "         0.0       1.00      0.94      0.97     30989\n",
            "         1.0       0.00      0.00      0.00       135\n",
            "\n",
            "    accuracy                           0.94     31124\n",
            "   macro avg       0.50      0.47      0.48     31124\n",
            "weighted avg       0.99      0.94      0.96     31124\n",
            "\n"
          ]
        },
        {
          "output_type": "display_data",
          "data": {
            "text/plain": [
              "<Figure size 800x600 with 2 Axes>"
            ],
            "image/png": "[encoded data removed]"
          },
          "metadata": {}
        }
      ],
      "source": [
        "\n",
        "dtc = DecisionTreeClassifier()\n",
        "evaluate_model(dtc, X_train_res, X_test, y_train_res, y_test, \"Decision Tree Classifier\")\n"
      ]
    },
    {
      "cell_type": "markdown",
      "id": "f9da4409",
      "metadata": {
        "id": "f9da4409"
      },
      "source": [
        "## Random Forest Classifier"
      ]
    },
    {
      "cell_type": "code",
      "execution_count": null,
      "id": "3b30b751",
      "metadata": {
        "colab": {
          "base_uri": "https://localhost:8080/",
          "height": 802
        },
        "id": "3b30b751",
        "outputId": "1022ed22-2d18-41d8-ff10-b5cdbb3f960a"
      },
      "outputs": [
        {
          "output_type": "stream",
          "name": "stdout",
          "text": [
            "Model: Random Forest Classifier\n",
            "Accuracy: 0.9944094589384398\n",
            "Confusion Matrix:\\n[[30950    39]\n",
            " [  135     0]]\n",
            "Classification Report:\\n              precision    recall  f1-score   support\n",
            "\n",
            "         0.0       1.00      1.00      1.00     30989\n",
            "         1.0       0.00      0.00      0.00       135\n",
            "\n",
            "    accuracy                           0.99     31124\n",
            "   macro avg       0.50      0.50      0.50     31124\n",
            "weighted avg       0.99      0.99      0.99     31124\n",
            "\n"
          ]
        },
        {
          "output_type": "display_data",
          "data": {
            "text/plain": [
              "<Figure size 800x600 with 2 Axes>"
            ],
            "image/png": "[encoded data removed]"
          },
          "metadata": {}
        }
      ],
      "source": [
        "\n",
        "rfc = RandomForestClassifier()\n",
        "evaluate_model(rfc, X_train_res, X_test, y_train_res, y_test, \"Random Forest Classifier\")\n"
      ]
    },
    {
      "cell_type": "markdown",
      "id": "6ce69586",
      "metadata": {
        "id": "6ce69586"
      },
      "source": [
        "## Save the best model (example: Random Forest)"
      ]
    },
    {
      "cell_type": "code",
      "execution_count": null,
      "id": "4508c94f",
      "metadata": {
        "colab": {
          "base_uri": "https://localhost:8080/"
        },
        "id": "4508c94f",
        "outputId": "136d26d4-a601-4d80-d6bb-b9bccc192321"
      },
      "outputs": [
        {
          "output_type": "execute_result",
          "data": {
            "text/plain": [
              "['best_credit_card_fraud_model.pkl']"
            ]
          },
          "metadata": {},
          "execution_count": 38
        }
      ],
      "source": [
        "\n",
        "joblib.dump(rfc, \"best_credit_card_fraud_model.pkl\")\n"
      ]
    },
    {
      "cell_type": "markdown",
      "id": "7d7f21fc",
      "metadata": {
        "id": "7d7f21fc"
      },
      "source": [
        "## Load the model and make a prediction"
      ]
    },
    {
      "cell_type": "code",
      "execution_count": null,
      "id": "59700dd8",
      "metadata": {
        "colab": {
          "base_uri": "https://localhost:8080/"
        },
        "id": "59700dd8",
        "outputId": "f496069b-d7b9-45c3-dc29-c9f9e4e2fa6c"
      },
      "outputs": [
        {
          "output_type": "stream",
          "name": "stdout",
          "text": [
            "Prediction for sample data: Legitimate\n"
          ]
        },
        {
          "output_type": "stream",
          "name": "stderr",
          "text": [
            "/usr/local/lib/python3.10/dist-packages/sklearn/base.py:439: UserWarning: X does not have valid feature names, but RandomForestClassifier was fitted with feature names\n",
            "  warnings.warn(\n"
          ]
        }
      ],
      "source": [
        "model = joblib.load(\"best_credit_card_fraud_model.pkl\")\n",
        "\n",
        "sample_data = X_test.iloc[0].values.reshape(1, -1)\n",
        "pred = model.predict(sample_data)\n",
        "print(f\"Prediction for sample data: {'Fraudulent' if pred[0] == 1 else 'Legitimate'}\")\n"
      ]
    }
  ],
  "metadata": {
    "colab": {
      "provenance": [],
      "gpuType": "T4",
      "include_colab_link": true
    },
    "language_info": {
      "name": "python"
    },
    "kernelspec": {
      "name": "python3",
      "display_name": "Python 3"
    },
    "accelerator": "GPU"
  },
  "nbformat": 4,
  "nbformat_minor": 5
}